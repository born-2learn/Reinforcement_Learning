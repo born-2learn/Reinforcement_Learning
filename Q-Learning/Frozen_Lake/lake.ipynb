{
 "cells": [
  {
   "cell_type": "code",
   "execution_count": 1,
   "metadata": {},
   "outputs": [],
   "source": [
    "import time"
   ]
  },
  {
   "cell_type": "code",
   "execution_count": 1,
   "metadata": {},
   "outputs": [
    {
     "name": "stderr",
     "output_type": "stream",
     "text": "/home/farhan/ml/Reinforcement_Learning/mlenv/lib/python3.6/site-packages/IPython/core/display.py:701: UserWarning: Consider using IPython.display.IFrame instead\n  warnings.warn(\"Consider using IPython.display.IFrame instead\")\n"
    },
    {
     "data": {
      "text/html": "<iframe width=\"560\" height=\"315\" src=\"https://www.youtube.com/embed/q2ZOEFAaaI0?showinfo=0\" frameborder=\"0\" allow=\"autoplay; encrypted-media\" allowfullscreen></iframe>",
      "text/plain": "<IPython.core.display.HTML object>"
     },
     "execution_count": 1,
     "metadata": {},
     "output_type": "execute_result"
    }
   ],
   "source": [
    "from IPython.display import HTML\n",
    "HTML('<iframe width=\"560\" height=\"315\" src=\"https://www.youtube.com/embed/q2ZOEFAaaI0?showinfo=0\" frameborder=\"0\" allow=\"autoplay; encrypted-media\" allowfullscreen></iframe>')"
   ]
  },
  {
   "cell_type": "code",
   "execution_count": 3,
   "metadata": {},
   "outputs": [],
   "source": [
    "import numpy as np\n",
    "import gym\n",
    "import random"
   ]
  },
  {
   "cell_type": "code",
   "execution_count": 4,
   "metadata": {},
   "outputs": [],
   "source": [
    "from gym.envs.registration import register\n",
    "register(\n",
    "    id='FrozenLakeNotSlippery-v0',\n",
    "    entry_point='gym.envs.toy_text:FrozenLakeEnv',\n",
    "    kwargs={'map_name' : '4x4', 'is_slippery': False},\n",
    "    max_episode_steps=100,\n",
    "    reward_threshold=0.8196, # optimum = .8196, changing this seems have no influence\n",
    ")"
   ]
  },
  {
   "cell_type": "code",
   "execution_count": 5,
   "metadata": {},
   "outputs": [],
   "source": [
    "env = gym.make(\"FrozenLakeNotSlippery-v0\")"
   ]
  },
  {
   "cell_type": "code",
   "execution_count": 6,
   "metadata": {},
   "outputs": [],
   "source": [
    "action_size = env.action_space.n\n",
    "state_size = env.observation_space.n"
   ]
  },
  {
   "cell_type": "code",
   "execution_count": 7,
   "metadata": {},
   "outputs": [
    {
     "name": "stdout",
     "output_type": "stream",
     "text": "<class 'int'>\n"
    }
   ],
   "source": [
    "print(type(action_size))"
   ]
  },
  {
   "cell_type": "code",
   "execution_count": 8,
   "metadata": {},
   "outputs": [],
   "source": [
    "qtable = np.zeros((state_size, action_size))\n",
    "\n"
   ]
  },
  {
   "cell_type": "code",
   "execution_count": 9,
   "metadata": {},
   "outputs": [],
   "source": [
    "total_episodes = 20000        # Total episodes\n",
    "learning_rate = 0.8           # Learning rate\n",
    "max_steps = 99                # Max steps per episode\n",
    "gamma = 0.95                  # Discounting rate\n",
    "\n",
    "# Exploration parameters\n",
    "epsilon = 1.0                 # Exploration rate\n",
    "max_epsilon = 1.0             # Exploration probability at start\n",
    "min_epsilon = 0.01            # Minimum exploration probability \n",
    "decay_rate = 0.001             # Exponential decay rate for exploration prob\n",
    "#I find that decay_rate=0.001 works much better than 0.01"
   ]
  },
  {
   "cell_type": "code",
   "execution_count": 10,
   "metadata": {},
   "outputs": [
    {
     "name": "stdout",
     "output_type": "stream",
     "text": "Score over time: 0.93675\n[[0.73509189 0.77378094 0.77378094 0.73509189]\n [0.73509189 0.         0.81450625 0.77378094]\n [0.77378094 0.857375   0.77378094 0.81450625]\n [0.81450625 0.         0.76383645 0.77242275]\n [0.77378094 0.81450625 0.         0.73509189]\n [0.         0.         0.         0.        ]\n [0.         0.9025     0.         0.81450625]\n [0.         0.         0.         0.        ]\n [0.81450625 0.         0.857375   0.77378094]\n [0.81450625 0.9025     0.9025     0.        ]\n [0.857375   0.95       0.         0.857375  ]\n [0.         0.         0.         0.        ]\n [0.         0.         0.         0.        ]\n [0.         0.9025     0.95       0.857375  ]\n [0.9025     0.95       1.         0.9025    ]\n [0.         0.         0.         0.        ]]\n0.010000002040542086\n"
    }
   ],
   "source": [
    "# List of rewards\n",
    "rewards = []\n",
    "\n",
    "# 2 For life or until learning is stopped\n",
    "for episode in range(total_episodes):\n",
    "    # Reset the environment\n",
    "    state = env.reset()\n",
    "    step = 0\n",
    "    done = False\n",
    "    total_rewards = 0\n",
    "    \n",
    "    for step in range(max_steps):\n",
    "        # 3. Choose an action a in the current world state (s)\n",
    "        ## First we randomize a number\n",
    "        exp_exp_tradeoff = random.uniform(0, 1)\n",
    "        \n",
    "        ## If this number > greater than epsilon --> exploitation (taking the biggest Q value for this state)\n",
    "        if exp_exp_tradeoff > epsilon:\n",
    "            action = np.argmax(qtable[state,:])\n",
    "\n",
    "        # Else doing a random choice --> exploration\n",
    "        else:\n",
    "            action = env.action_space.sample()\n",
    "\n",
    "        # Take the action (a) and observe the outcome state(s') and reward (r)\n",
    "        new_state, reward, done, info = env.step(action)\n",
    "\n",
    "        # Update Q(s,a):= Q(s,a) + lr [R(s,a) + gamma * max Q(s',a') - Q(s,a)]\n",
    "        # qtable[new_state,:] : all the actions we can take from new state\n",
    "        qtable[state, action] = qtable[state, action] + learning_rate * (reward + gamma * np.max(qtable[new_state, :]) - qtable[state, action])\n",
    "        \n",
    "        total_rewards =total_rewards + reward\n",
    "        \n",
    "        # Our new state is state\n",
    "        state = new_state\n",
    "        \n",
    "        # If done (if we're dead) : finish episode\n",
    "        if done == True: \n",
    "            break\n",
    "        \n",
    "    episode += 1\n",
    "    # Reduce epsilon (because we need less and less exploration)\n",
    "    epsilon = min_epsilon + (max_epsilon - min_epsilon)*np.exp(-decay_rate*episode) \n",
    "    rewards.append(total_rewards)\n",
    "\n",
    "print (\"Score over time: \" +  str(sum(rewards)/total_episodes))\n",
    "print(qtable)\n",
    "print(epsilon)"
   ]
  },
  {
   "cell_type": "code",
   "execution_count": 11,
   "metadata": {},
   "outputs": [
    {
     "name": "stdout",
     "output_type": "stream",
     "text": "\n\u001b[41mS\u001b[0mFFF\nFHFH\nFFFH\nHFFG\n[[1 2 1 0]\n [1 0 1 0]\n [2 1 1 0]\n [0 2 2 0]]\n"
    }
   ],
   "source": [
    "# Print the action in every place\n",
    "#LEFT = 0 DOWN = 1 RIGHT = 2 UP = 3\n",
    "\n",
    "env.reset()\n",
    "env.render()\n",
    "print(np.argmax(qtable,axis=1).reshape(4,4))"
   ]
  },
  {
   "cell_type": "code",
   "execution_count": 12,
   "metadata": {},
   "outputs": [
    {
     "name": "stdout",
     "output_type": "stream",
     "text": "****************************************************\nEPISODE  0\n\n\u001b[41mS\u001b[0mFFF\nFHFH\nFFFH\nHFFG\n  (Down)\nSFFF\n\u001b[41mF\u001b[0mHFH\nFFFH\nHFFG\n  (Down)\nSFFF\nFHFH\n\u001b[41mF\u001b[0mFFH\nHFFG\n  (Right)\nSFFF\nFHFH\nF\u001b[41mF\u001b[0mFH\nHFFG\n  (Down)\nSFFF\nFHFH\nFFFH\nH\u001b[41mF\u001b[0mFG\n  (Right)\nSFFF\nFHFH\nFFFH\nHF\u001b[41mF\u001b[0mG\n****************************************************\nEPISODE  1\n\n\u001b[41mS\u001b[0mFFF\nFHFH\nFFFH\nHFFG\n  (Down)\nSFFF\n\u001b[41mF\u001b[0mHFH\nFFFH\nHFFG\n  (Down)\nSFFF\nFHFH\n\u001b[41mF\u001b[0mFFH\nHFFG\n  (Right)\nSFFF\nFHFH\nF\u001b[41mF\u001b[0mFH\nHFFG\n  (Down)\nSFFF\nFHFH\nFFFH\nH\u001b[41mF\u001b[0mFG\n  (Right)\nSFFF\nFHFH\nFFFH\nHF\u001b[41mF\u001b[0mG\n****************************************************\nEPISODE  2\n\n\u001b[41mS\u001b[0mFFF\nFHFH\nFFFH\nHFFG\n  (Down)\nSFFF\n\u001b[41mF\u001b[0mHFH\nFFFH\nHFFG\n  (Down)\nSFFF\nFHFH\n\u001b[41mF\u001b[0mFFH\nHFFG\n  (Right)\nSFFF\nFHFH\nF\u001b[41mF\u001b[0mFH\nHFFG\n  (Down)\nSFFF\nFHFH\nFFFH\nH\u001b[41mF\u001b[0mFG\n  (Right)\nSFFF\nFHFH\nFFFH\nHF\u001b[41mF\u001b[0mG\n****************************************************\nEPISODE  3\n\n\u001b[41mS\u001b[0mFFF\nFHFH\nFFFH\nHFFG\n  (Down)\nSFFF\n\u001b[41mF\u001b[0mHFH\nFFFH\nHFFG\n  (Down)\nSFFF\nFHFH\n\u001b[41mF\u001b[0mFFH\nHFFG\n  (Right)\nSFFF\nFHFH\nF\u001b[41mF\u001b[0mFH\nHFFG\n  (Down)\nSFFF\nFHFH\nFFFH\nH\u001b[41mF\u001b[0mFG\n  (Right)\nSFFF\nFHFH\nFFFH\nHF\u001b[41mF\u001b[0mG\n****************************************************\nEPISODE  4\n\n\u001b[41mS\u001b[0mFFF\nFHFH\nFFFH\nHFFG\n  (Down)\nSFFF\n\u001b[41mF\u001b[0mHFH\nFFFH\nHFFG\n  (Down)\nSFFF\nFHFH\n\u001b[41mF\u001b[0mFFH\nHFFG\n  (Right)\nSFFF\nFHFH\nF\u001b[41mF\u001b[0mFH\nHFFG\n  (Down)\nSFFF\nFHFH\nFFFH\nH\u001b[41mF\u001b[0mFG\n  (Right)\nSFFF\nFHFH\nFFFH\nHF\u001b[41mF\u001b[0mG\n"
    }
   ],
   "source": [
    "#All the episoded is the same\n",
    "env.reset()\n",
    "\n",
    "for episode in range(5):\n",
    "    state = env.reset()\n",
    "    step = 0\n",
    "    done = False\n",
    "    print(\"****************************************************\")\n",
    "    print(\"EPISODE \", episode)\n",
    "\n",
    "    for step in range(max_steps):\n",
    "        env.render()\n",
    "        # Take the action (index) that have the maximum expected future reward given that state\n",
    "        action = np.argmax(qtable[state,:])\n",
    "        \n",
    "        new_state, reward, done, info = env.step(action)\n",
    "        \n",
    "        if done:\n",
    "            break\n",
    "        state = new_state\n",
    "env.close()"
   ]
  },
  {
   "cell_type": "code",
   "execution_count": null,
   "metadata": {},
   "outputs": [],
   "source": []
  }
 ],
 "metadata": {
  "kernelspec": {
   "display_name": "Python 3",
   "language": "python",
   "name": "python3"
  },
  "language_info": {
   "codemirror_mode": {
    "name": "ipython",
    "version": 3
   },
   "file_extension": ".py",
   "mimetype": "text/x-python",
   "name": "python",
   "nbconvert_exporter": "python",
   "pygments_lexer": "ipython3",
   "version": "3.6.9"
  }
 },
 "nbformat": 4,
 "nbformat_minor": 2
}